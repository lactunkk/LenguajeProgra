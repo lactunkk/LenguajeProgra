{
 "cells": [
  {
   "cell_type": "markdown",
   "metadata": {},
   "source": [
    "# Ejercicio 1"
   ]
  },
  {
   "cell_type": "code",
   "execution_count": 1,
   "metadata": {
    "scrolled": false
   },
   "outputs": [
    {
     "name": "stdout",
     "output_type": "stream",
     "text": [
      "Se pedirán 3 usuarios y luego saludar a 1 de ellos\n",
      "Meta nombre de usuario\n",
      "Katita\n",
      "Meta nombre de usuario\n",
      "Lactunkk\n",
      "Meta nombre de usuario\n",
      "Diosito\n",
      "A quien quiere saludar?\n",
      "Lactunkk\n",
      "Hola! lactunkk\n",
      "Quiere saludar a todos?\n",
      "si\n",
      "Hola!  katita\n",
      "Hola!  lactunkk\n",
      "Hola!  diosito\n"
     ]
    }
   ],
   "source": [
    "lista = [] \n",
    "print(\"Se pedirán 3 usuarios y luego saludar a 1 de ellos\")\n",
    "for i in range(0 , 3):\n",
    "    lista.append(input(\"Meta nombre de usuario\\n\"))\n",
    "lista = [item.lower() for item in lista]\n",
    "nombre = input(\"A quien quiere saludar?\\n\")\n",
    "nombre= nombre.lower()\n",
    "if nombre in lista:\n",
    "    print(\"Hola!\", nombre)\n",
    "else:\n",
    "    print(\"No se encuentra ese usuario\")\n",
    "pregunta = input(\"Quiere saludar a todos?\\n\")\n",
    "pregunta = pregunta.lower()\n",
    "if pregunta == 'si':\n",
    "    for elementos in lista:\n",
    "        print(\"Hola! \", elementos)\n",
    "elif pregunta == 'no':\n",
    "    print(\"Bueno...\")\n",
    "else:\n",
    "    print(\"Ingresaste otra cosa nada que ver con 'si' o 'no' por lo que no se saludara nadie más!\")"
   ]
  },
  {
   "cell_type": "markdown",
   "metadata": {},
   "source": [
    "# Ejercicio 2 "
   ]
  },
  {
   "cell_type": "code",
   "execution_count": 3,
   "metadata": {
    "scrolled": true
   },
   "outputs": [
    {
     "name": "stdout",
     "output_type": "stream",
     "text": [
      "Cuantos invitados tendrá como máximo la fiesta?\n",
      "3\n",
      "Quieres invitar alguien? si / no\n",
      "si\n",
      "Introduzca solo el nombre del invitado\n",
      "Vicente\n",
      "Quieres invitar alguien? si / no\n",
      "si\n",
      "Introduzca solo el nombre del invitado\n",
      "Andrea\n",
      "Quieres invitar alguien? si / no\n",
      "no\n",
      "Quieres eliminar a alguien? si / no\n",
      "si\n",
      "Quien quieres eliminar para invitar a otra persona?\n",
      " ['vicente', 'andrea']\n",
      "NoneandrEa\n",
      "Quieres invitar alguien? si / no\n",
      "se\n",
      "Ingresaste otra cosa y no un 'si' o 'no' se volverá a preguntar si quiere invitar a alguien\n",
      "Quieres invitar alguien? si / no\n",
      "si\n",
      "Introduzca solo el nombre del invitado\n",
      "Christopher\n",
      "Quieres invitar alguien? si / no\n",
      "no\n",
      "Quieres eliminar a alguien? si / no\n",
      "no\n",
      "Quieres cambiar a alguien? si / no\n",
      "nose\n",
      "Ingresaste otra cosa y no un 'si' o 'no' se volverá a preguntar si quiere invitar a alguien\n",
      "Quieres invitar alguien? si / no\n",
      "no\n",
      "Quieres eliminar a alguien? si / no\n",
      "no\n",
      "Quieres cambiar a alguien? si / no\n",
      "si\n",
      "Cual posición quiere cambiar de sus invitados [1,2,3,...,n]?\n",
      " ['vicente', 'christopher']\n",
      "None2\n",
      "Y por quien lo quieres cambiar?\n",
      "Katia\n",
      "Quieres invitar alguien? si / no\n",
      "no\n",
      "Quieres eliminar a alguien? si / no\n",
      "no\n",
      "Quieres cambiar a alguien? si / no\n",
      "no\n",
      "Los últimos 2 invitados fueron katia y vicente\n",
      "La cantidad de invitados fueron 2\n"
     ]
    }
   ],
   "source": [
    "invitados = []\n",
    "x=1\n",
    "while x!=0:\n",
    "    maximo = input(\"Cuantos invitados tendrá como máximo la fiesta?\\n\")\n",
    "    if maximo.isdigit() is False:\n",
    "        print(\"Ingrese un numero no una letra\")\n",
    "    else:\n",
    "        x=0\n",
    "x=0\n",
    "contador=0\n",
    "while x < int(maximo):\n",
    "    r = 1\n",
    "    Pregunta = input(\"Quieres invitar alguien? si / no\\n\")\n",
    "    if Pregunta.lower() == \"si\":\n",
    "        while r != 0:\n",
    "            nombreinvi = input(\"Introduzca solo el nombre del invitado\\n\")\n",
    "            if nombreinvi.isalpha() is False :\n",
    "                print(\"Tiene un numero su nombre por lo que se volverá a preguntar el nombre\")\n",
    "            else:\n",
    "                nombreinvi = nombreinvi.lower()\n",
    "                invitados.append(nombreinvi)\n",
    "                x=x+1\n",
    "                contador=contador+1\n",
    "                r=0\n",
    "    elif Pregunta.lower() == \"no\":\n",
    "        Pregunta=input(\"Quieres eliminar a alguien? si / no\\n\")\n",
    "        if Pregunta.lower() == \"si\":\n",
    "            eliminar=input(print(\"Quien quieres eliminar para invitar a otra persona?\\n\", invitados))\n",
    "            if eliminar.lower() in invitados:\n",
    "                contador=contador-1\n",
    "                x=x-1\n",
    "                invitados.remove(eliminar.lower())\n",
    "            else:\n",
    "                print(\"No se encuentra la persona a eliminar por lo que no se eliminara nadie\")\n",
    "            \n",
    "        elif Pregunta.lower() == \"no\":\n",
    "            Pregunta=input(\"Quieres cambiar a alguien? si / no\\n\")\n",
    "            if Pregunta.lower() == \"si\":\n",
    "                if contador > 0:\n",
    "                    while True:\n",
    "                        a = input(print(\"Cual posición quiere cambiar de sus invitados [1,2,3,...,n]?\\n\" ,invitados))\n",
    "                        if a.isdigit() is False:\n",
    "                            print(\"Ingreso una letra o palabra y no un numero por ende se le va preguntar de nuevo si quiere invitar a alguien\")\n",
    "                        elif a.isdigit() is True:\n",
    "                            a = int(a)\n",
    "                            if a < 0:\n",
    "                                print(\"No ingreses valores de posición negativos solo positivos\")\n",
    "                            elif a <= contador:\n",
    "                                o = 1\n",
    "                                while o != 0:\n",
    "                                    b = input(\"Y por quien lo quieres cambiar?\\n\")\n",
    "                                    if b.isalpha() is False :\n",
    "                                        print(\"Tiene un numero su nombre por lo que se volverá a preguntar el nombre a reemplazar\")\n",
    "                                        o = 1\n",
    "                                    else:\n",
    "                                        invitados[a-1]=b.lower()\n",
    "                                        o = 0\n",
    "                        else:\n",
    "                            print(\"ingresaste otra cosa no y no un numero\")\n",
    "                        break\n",
    "                else:\n",
    "                    print(\"No puede cambiar a nadie porque no hay nadie\")\n",
    "            elif Pregunta.lower() == \"no\":\n",
    "                x=int(maximo)\n",
    "            else:\n",
    "                print(\"Ingresaste otra cosa y no un 'si' o 'no' se volverá a preguntar si quiere invitar a alguien\")\n",
    "        else:\n",
    "            print(\"Ingresaste otra cosa y no un 'si' o 'no' se volverá a preguntar si quiere invitar a alguien\")\n",
    "    else:\n",
    "        print(\"Ingresaste otra cosa y no un 'si' o 'no' se volverá a preguntar si quiere invitar a alguien\")\n",
    "if contador > 1: \n",
    "    print(\"Los últimos 2 invitados fueron\" , invitados[-1] ,\"y\", invitados[-2])\n",
    "elif contador == 1:\n",
    "    print(\"El único invitado fue\", invitados[0])\n",
    "else:\n",
    "    print(\"No hay nadie en tu fiesta\")\n",
    "print(\"La cantidad de invitados fueron\" ,contador)\n",
    "    "
   ]
  },
  {
   "cell_type": "markdown",
   "metadata": {},
   "source": [
    "# Ejercicio 3"
   ]
  },
  {
   "cell_type": "code",
   "execution_count": 5,
   "metadata": {},
   "outputs": [
    {
     "name": "stdout",
     "output_type": "stream",
     "text": [
      "De que tamaño quiere su lista?\n",
      "nose\n",
      "Ingrese un numero no una letra\n",
      "De que tamaño quiere su lista?\n",
      "4\n",
      "La primera 8\n",
      "La ultima 512\n",
      "Los valores de al medio son [64, 216]\n"
     ]
    }
   ],
   "source": [
    "lista = []\n",
    "x=1\n",
    "while x!= 0:\n",
    "    stop = input(\"De que tamaño quiere su lista?\\n\")\n",
    "    if stop.isdigit() is False:\n",
    "        print(\"Ingrese un numero no una letra\")\n",
    "    else:\n",
    "        x=0\n",
    "contador = int(stop)\n",
    "stop = int(stop)\n",
    "total = stop\n",
    "stop=stop*2+1\n",
    "for i in range(2 , stop , 2):\n",
    "    a=i**3\n",
    "    lista.append(int(a))\n",
    "print(\"La primera\" ,lista[0])\n",
    "if len(lista) > 1:\n",
    "    print(\"La ultima\" ,lista[-1])\n",
    "lista.pop()\n",
    "if total > 1:\n",
    "    lista.pop(0)\n",
    "if total > 2:\n",
    "    print(\"Los valores de al medio son\", lista)"
   ]
  },
  {
   "cell_type": "markdown",
   "metadata": {},
   "source": [
    "# Ejercicio 4"
   ]
  },
  {
   "cell_type": "code",
   "execution_count": 6,
   "metadata": {
    "scrolled": false
   },
   "outputs": [
    {
     "name": "stdout",
     "output_type": "stream",
     "text": [
      "De que tamaño quiere su lista?\n",
      "3\n",
      "Meta nombre de usuarios que no se repitan o se llame admin\n",
      "aDmIn\n",
      "Ingresaste alguien repetido o un usuario llamado admin\n",
      "Meta nombre de usuarios que no se repitan o se llame admin\n",
      "lolcin\n",
      "Meta nombre de usuarios que no se repitan o se llame admin\n",
      "lolCin\n",
      "Ingresaste alguien repetido o un usuario llamado admin\n",
      "Meta nombre de usuarios que no se repitan o se llame admin\n",
      "lelin\n",
      "Meta nombre de usuarios que no se repitan o se llame admin\n",
      "extermineitor1\n",
      "Los usuarios registrados son  ['lolcin', 'lelin', 'extermineitor1']\n"
     ]
    }
   ],
   "source": [
    "usuarios = []\n",
    "x=1\n",
    "while x!= 0:\n",
    "    stop = input(\"De que tamaño quiere su lista?\\n\")\n",
    "    if stop.isdigit() is False:\n",
    "        print(\"ingrese un numero no una letra\")\n",
    "    else:\n",
    "        x=0\n",
    "i=0\n",
    "stop = int(stop)\n",
    "while i < stop:\n",
    "    elemento = input(\"Meta nombre de usuarios que no se repitan o se llame admin\\n\")\n",
    "    elemento = elemento.lower()\n",
    "    if elemento == \"admin\" or elemento in usuarios:\n",
    "        print(\"Ingresaste alguien repetido o un usuario llamado admin\")\n",
    "    else:\n",
    "        i=i+1\n",
    "        usuarios.append(elemento)\n",
    "        usuarios = [item.lower() for item in usuarios]\n",
    "print(\"Los usuarios registrados son \" , usuarios)   "
   ]
  },
  {
   "cell_type": "markdown",
   "metadata": {},
   "source": [
    "# Ejercicio 5"
   ]
  },
  {
   "cell_type": "code",
   "execution_count": 7,
   "metadata": {
    "scrolled": true
   },
   "outputs": [
    {
     "name": "stdout",
     "output_type": "stream",
     "text": [
      "Ingrese su nombre\n",
      "Christopher\n",
      "Ingrese su apellido\n",
      "Pave1\n",
      "Tiene un numero su apellido por lo que se va a volver a preguntar\n",
      "Ingrese su apellido\n",
      "Pavez\n",
      "Quiere agregarle una característica más al diccionario? si / no\n",
      "SI\n",
      "Cual va a ser su característica\n",
      "1 + 1\n",
      "Cual va a ser la respuesta a esa característica\n",
      "soprole\n",
      "Quiere agregarle una característica más al diccionario? si / no\n",
      "nose\n",
      "Ingresaste otra cosa y no un 'si' o 'no' por lo que se va preguntar denuedo una característica a agregar\n",
      "Quiere agregarle una característica más al diccionario? si / no\n",
      "no\n",
      "{'nombre': 'Christopher', 'apellido': 'Pavez', '1 + 1': 'soprole'}\n"
     ]
    }
   ],
   "source": [
    "r=1\n",
    "while r != 0:\n",
    "    nombr = input(\"Ingrese su nombre\\n\")\n",
    "    if nombr.isalpha() is False :\n",
    "        print(\"Tiene un numero su nombre por lo que se va a volver a preguntar\")\n",
    "    else:\n",
    "        r = 0\n",
    "r=1\n",
    "while r != 0:\n",
    "    apell = input(\"Ingrese su apellido\\n\")\n",
    "    if apell.isalpha() is False :\n",
    "        print(\"Tiene un numero su apellido por lo que se va a volver a preguntar\")\n",
    "    else:\n",
    "        r = 0\n",
    "diccionario={}\n",
    "diccionario[\"nombre\"]=nombr\n",
    "\n",
    "diccionario[\"apellido\"]=apell\n",
    "x=1\n",
    "while x != 0:\n",
    "    pregunta = input(\"Quiere agregarle una característica más al diccionario? si / no\\n\")\n",
    "    pregunta = pregunta.lower()\n",
    "    if pregunta == 'si':\n",
    "        llave = input(\"Cual va a ser su característica\\n\")\n",
    "        valor = input(\"Cual va a ser la respuesta a esa característica\\n\")\n",
    "        diccionario[llave] = valor\n",
    "    elif pregunta == 'no':\n",
    "        x=0\n",
    "    else:\n",
    "        print(\"Ingresaste otra cosa y no un 'si' o 'no' por lo que se va preguntar denuedo una característica a agregar\")\n",
    "print(diccionario)"
   ]
  },
  {
   "cell_type": "markdown",
   "metadata": {},
   "source": [
    "# Ejercicio 6"
   ]
  },
  {
   "cell_type": "code",
   "execution_count": 8,
   "metadata": {},
   "outputs": [
    {
     "name": "stdout",
     "output_type": "stream",
     "text": [
      "Ingrese su lugar favorito (diga 'PARAR' si quiere dejar de agregar)\n",
      "Japon\n",
      "Ingrese su lugar favorito (diga 'PARAR' si quiere dejar de agregar)\n",
      "Jap0n\n",
      "Ingresaste un lugar con algún numero o directamente un numero, se volverá preguntar\n",
      "Ingrese su lugar favorito (diga 'PARAR' si quiere dejar de agregar)\n",
      "japON\n",
      "Ingrese su lugar favorito (diga 'PARAR' si quiere dejar de agregar)\n",
      "JAPon\n",
      "Ingrese su lugar favorito (diga 'PARAR' si quiere dejar de agregar)\n",
      "Chile\n",
      "Ingrese su lugar favorito (diga 'PARAR' si quiere dejar de agregar)\n",
      "Israel\n",
      "Ingrese su lugar favorito (diga 'PARAR' si quiere dejar de agregar)\n",
      "paraR\n",
      "los lugares : las veces que dijo {'japon': 3, 'chile': 1, 'israel': 1}\n"
     ]
    }
   ],
   "source": [
    "lugares = []\n",
    "lugares_fav = {}\n",
    "while True :\n",
    "    while True:\n",
    "        elemento = input(\"Ingrese su lugar favorito (diga 'PARAR' si quiere dejar de agregar)\\n\")\n",
    "        if elemento.isalpha() is False:\n",
    "            print(\"Ingresaste un lugar con algún numero o directamente un numero, se volverá preguntar\")\n",
    "        else:\n",
    "            break\n",
    "    elemento = elemento.lower()\n",
    "    if elemento == 'parar':\n",
    "        break\n",
    "    else:\n",
    "        lugares.append(elemento)\n",
    "for elementos in lugares:\n",
    "    if elementos in lugares_fav:\n",
    "        pass\n",
    "    else:\n",
    "        lugares_fav[elementos] = lugares.count(elementos)\n",
    "print(\"los lugares : las veces que dijo\" , lugares_fav)"
   ]
  },
  {
   "cell_type": "markdown",
   "metadata": {},
   "source": [
    "# Ejercicio 7 (selección 1)"
   ]
  },
  {
   "cell_type": "code",
   "execution_count": 11,
   "metadata": {
    "scrolled": false
   },
   "outputs": [
    {
     "name": "stdout",
     "output_type": "stream",
     "text": [
      "Se pedirán 3 usuarios y luego saludar a 1 de ellos\n",
      "Ingrese nombre de usuario\n",
      "Jorge\n",
      "Ingrese nombre de usuario\n",
      "Lolcin\n",
      "Ingrese nombre de usuario\n",
      "Lactunkk\n",
      "Ingrese quien quiere saludar\n",
      "Lactunkk\n",
      "Hola! lactunkk\n",
      "Quiere saludar a todos?\n",
      "Si\n",
      "Hola!  jorge\n",
      "Hola!  lolcin\n",
      "Hola!  lactunkk\n"
     ]
    }
   ],
   "source": [
    "def usuario(nombr , saludar):\n",
    "    lista = nombr\n",
    "    nombre = saludar\n",
    "    nombre= nombre.lower()\n",
    "    if nombre in lista:\n",
    "        print(\"Hola!\", nombre)\n",
    "    else:\n",
    "        print(\"No se encuentra ese usuario\")\n",
    "    pregunta = input(\"Quiere saludar a todos?\\n\")\n",
    "    pregunta = pregunta.lower()\n",
    "    if pregunta == 'si':\n",
    "        for elementos in lista:\n",
    "            print(\"Hola! \", elementos)\n",
    "    elif pregunta == 'no':\n",
    "        print(\"Bueno...\")\n",
    "    else:\n",
    "        print(\"Ingresaste otra cosa nada que ver con 'si' o 'no' por lo que no se saludara nadie más!\")\n",
    "    pass\n",
    "valor_nombr = []\n",
    "print(\"Se pedirán 3 usuarios y luego saludar a 1 de ellos\")\n",
    "for i in range(0 , 3):\n",
    "    valor_nombr.append(input(\"Ingrese nombre de usuario\\n\"))\n",
    "    valor_nombr = [item.lower() for item in valor_nombr]\n",
    "\n",
    "valor_saluda = input(\"Ingrese quien quiere saludar\\n\")\n",
    "usuario(valor_nombr , valor_saluda)"
   ]
  },
  {
   "cell_type": "markdown",
   "metadata": {},
   "source": [
    "# Ejercicio 8 (selección 3)"
   ]
  },
  {
   "cell_type": "code",
   "execution_count": 12,
   "metadata": {},
   "outputs": [
    {
     "name": "stdout",
     "output_type": "stream",
     "text": [
      "De que tamaño quiere su lista?\n",
      "4\n",
      "La primera 8\n",
      "La ultima 512\n",
      "Los valores de al medio son [64, 216]\n"
     ]
    }
   ],
   "source": [
    "def valor(tamaño):\n",
    "    lista = []\n",
    "    stop = tamaño\n",
    "    contador = stop\n",
    "    total = stop\n",
    "    stop=stop*2+1\n",
    "    for i in range(2 , stop , 2):\n",
    "        a=i**3\n",
    "        lista.append(int(a))\n",
    "    print(\"La primera\" ,lista[0])\n",
    "    if len(lista) > 1:\n",
    "        print(\"La ultima\" ,lista[-1])\n",
    "    lista.pop()\n",
    "    if total > 1:\n",
    "        lista.pop(0)\n",
    "    if total > 2:\n",
    "        print(\"Los valores de al medio son\", lista)\n",
    "    pass\n",
    "\n",
    "x=1\n",
    "while x!= 0:\n",
    "    stop = input(\"De que tamaño quiere su lista?\\n\")\n",
    "    if stop.isdigit() is False:\n",
    "        print(\"Ingrese un numero no una letra\")\n",
    "    else:\n",
    "        x=0\n",
    "stop = int(stop)\n",
    "valor(stop)"
   ]
  }
 ],
 "metadata": {
  "kernelspec": {
   "display_name": "Python 3",
   "language": "python",
   "name": "python3"
  },
  "language_info": {
   "codemirror_mode": {
    "name": "ipython",
    "version": 3
   },
   "file_extension": ".py",
   "mimetype": "text/x-python",
   "name": "python",
   "nbconvert_exporter": "python",
   "pygments_lexer": "ipython3",
   "version": "3.7.2"
  }
 },
 "nbformat": 4,
 "nbformat_minor": 2
}
